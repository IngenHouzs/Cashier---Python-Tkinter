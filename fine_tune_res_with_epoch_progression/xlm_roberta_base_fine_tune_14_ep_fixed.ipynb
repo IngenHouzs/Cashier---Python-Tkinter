{
  "cells": [
    {
      "cell_type": "markdown",
      "metadata": {
        "id": "96Mb83tM6Cc1"
      },
      "source": [
        "# Leveraging XLM-RoBERTa for Hate Speech Detection in Mixed-Language Texts\n",
        "\n",
        "---\n",
        "\n",
        "### Author: **Farrel Dinarta**  \n",
        "**Student ID**: 00000055702  \n",
        "**Email**: [farrel.dinarta@student.umn.ac.id](mailto:farrel.dinarta@student.umn.ac.id)\n",
        "\n",
        "---"
      ]
    },
    {
      "cell_type": "code",
      "source": [
        "!pip install --upgrade tensorflow"
      ],
      "metadata": {
        "colab": {
          "base_uri": "https://localhost:8080/"
        },
        "id": "c-5z8FECRAq4",
        "outputId": "114c9edb-98d3-41cc-f86a-2896e715ad47"
      },
      "execution_count": null,
      "outputs": [
        {
          "output_type": "stream",
          "name": "stdout",
          "text": [
            "Requirement already satisfied: tensorflow in /usr/local/lib/python3.10/dist-packages (2.17.0)\n",
            "Requirement already satisfied: absl-py>=1.0.0 in /usr/local/lib/python3.10/dist-packages (from tensorflow) (1.4.0)\n",
            "Requirement already satisfied: astunparse>=1.6.0 in /usr/local/lib/python3.10/dist-packages (from tensorflow) (1.6.3)\n",
            "Requirement already satisfied: flatbuffers>=24.3.25 in /usr/local/lib/python3.10/dist-packages (from tensorflow) (24.3.25)\n",
            "Requirement already satisfied: gast!=0.5.0,!=0.5.1,!=0.5.2,>=0.2.1 in /usr/local/lib/python3.10/dist-packages (from tensorflow) (0.6.0)\n",
            "Requirement already satisfied: google-pasta>=0.1.1 in /usr/local/lib/python3.10/dist-packages (from tensorflow) (0.2.0)\n",
            "Requirement already satisfied: h5py>=3.10.0 in /usr/local/lib/python3.10/dist-packages (from tensorflow) (3.11.0)\n",
            "Requirement already satisfied: libclang>=13.0.0 in /usr/local/lib/python3.10/dist-packages (from tensorflow) (18.1.1)\n",
            "Requirement already satisfied: ml-dtypes<0.5.0,>=0.3.1 in /usr/local/lib/python3.10/dist-packages (from tensorflow) (0.4.1)\n",
            "Requirement already satisfied: opt-einsum>=2.3.2 in /usr/local/lib/python3.10/dist-packages (from tensorflow) (3.4.0)\n",
            "Requirement already satisfied: packaging in /usr/local/lib/python3.10/dist-packages (from tensorflow) (24.1)\n",
            "Requirement already satisfied: protobuf!=4.21.0,!=4.21.1,!=4.21.2,!=4.21.3,!=4.21.4,!=4.21.5,<5.0.0dev,>=3.20.3 in /usr/local/lib/python3.10/dist-packages (from tensorflow) (3.20.3)\n",
            "Requirement already satisfied: requests<3,>=2.21.0 in /usr/local/lib/python3.10/dist-packages (from tensorflow) (2.32.3)\n",
            "Requirement already satisfied: setuptools in /usr/local/lib/python3.10/dist-packages (from tensorflow) (71.0.4)\n",
            "Requirement already satisfied: six>=1.12.0 in /usr/local/lib/python3.10/dist-packages (from tensorflow) (1.16.0)\n",
            "Requirement already satisfied: termcolor>=1.1.0 in /usr/local/lib/python3.10/dist-packages (from tensorflow) (2.4.0)\n",
            "Requirement already satisfied: typing-extensions>=3.6.6 in /usr/local/lib/python3.10/dist-packages (from tensorflow) (4.12.2)\n",
            "Requirement already satisfied: wrapt>=1.11.0 in /usr/local/lib/python3.10/dist-packages (from tensorflow) (1.16.0)\n",
            "Requirement already satisfied: grpcio<2.0,>=1.24.3 in /usr/local/lib/python3.10/dist-packages (from tensorflow) (1.64.1)\n",
            "Requirement already satisfied: tensorboard<2.18,>=2.17 in /usr/local/lib/python3.10/dist-packages (from tensorflow) (2.17.0)\n",
            "Requirement already satisfied: keras>=3.2.0 in /usr/local/lib/python3.10/dist-packages (from tensorflow) (3.4.1)\n",
            "Requirement already satisfied: tensorflow-io-gcs-filesystem>=0.23.1 in /usr/local/lib/python3.10/dist-packages (from tensorflow) (0.37.1)\n",
            "Requirement already satisfied: numpy<2.0.0,>=1.23.5 in /usr/local/lib/python3.10/dist-packages (from tensorflow) (1.26.4)\n",
            "Requirement already satisfied: wheel<1.0,>=0.23.0 in /usr/local/lib/python3.10/dist-packages (from astunparse>=1.6.0->tensorflow) (0.44.0)\n",
            "Requirement already satisfied: rich in /usr/local/lib/python3.10/dist-packages (from keras>=3.2.0->tensorflow) (13.9.1)\n",
            "Requirement already satisfied: namex in /usr/local/lib/python3.10/dist-packages (from keras>=3.2.0->tensorflow) (0.0.8)\n",
            "Requirement already satisfied: optree in /usr/local/lib/python3.10/dist-packages (from keras>=3.2.0->tensorflow) (0.13.0)\n",
            "Requirement already satisfied: charset-normalizer<4,>=2 in /usr/local/lib/python3.10/dist-packages (from requests<3,>=2.21.0->tensorflow) (3.3.2)\n",
            "Requirement already satisfied: idna<4,>=2.5 in /usr/local/lib/python3.10/dist-packages (from requests<3,>=2.21.0->tensorflow) (3.10)\n",
            "Requirement already satisfied: urllib3<3,>=1.21.1 in /usr/local/lib/python3.10/dist-packages (from requests<3,>=2.21.0->tensorflow) (2.2.3)\n",
            "Requirement already satisfied: certifi>=2017.4.17 in /usr/local/lib/python3.10/dist-packages (from requests<3,>=2.21.0->tensorflow) (2024.8.30)\n",
            "Requirement already satisfied: markdown>=2.6.8 in /usr/local/lib/python3.10/dist-packages (from tensorboard<2.18,>=2.17->tensorflow) (3.7)\n",
            "Requirement already satisfied: tensorboard-data-server<0.8.0,>=0.7.0 in /usr/local/lib/python3.10/dist-packages (from tensorboard<2.18,>=2.17->tensorflow) (0.7.2)\n",
            "Requirement already satisfied: werkzeug>=1.0.1 in /usr/local/lib/python3.10/dist-packages (from tensorboard<2.18,>=2.17->tensorflow) (3.0.4)\n",
            "Requirement already satisfied: MarkupSafe>=2.1.1 in /usr/local/lib/python3.10/dist-packages (from werkzeug>=1.0.1->tensorboard<2.18,>=2.17->tensorflow) (2.1.5)\n",
            "Requirement already satisfied: markdown-it-py>=2.2.0 in /usr/local/lib/python3.10/dist-packages (from rich->keras>=3.2.0->tensorflow) (3.0.0)\n",
            "Requirement already satisfied: pygments<3.0.0,>=2.13.0 in /usr/local/lib/python3.10/dist-packages (from rich->keras>=3.2.0->tensorflow) (2.18.0)\n",
            "Requirement already satisfied: mdurl~=0.1 in /usr/local/lib/python3.10/dist-packages (from markdown-it-py>=2.2.0->rich->keras>=3.2.0->tensorflow) (0.1.2)\n"
          ]
        }
      ]
    },
    {
      "cell_type": "markdown",
      "source": [
        "### Pre-trained Model Fine Tuning"
      ],
      "metadata": {
        "id": "zKo2dpilaBEh"
      }
    },
    {
      "cell_type": "markdown",
      "metadata": {
        "id": "vEtEW2v46Cc4"
      },
      "source": [
        "Constants"
      ]
    },
    {
      "cell_type": "code",
      "execution_count": null,
      "metadata": {
        "id": "qiF4JH6U6Cc4"
      },
      "outputs": [],
      "source": [
        "# Google Drive constants\n",
        "DRIVE_MOUNT_PATH = '/content/drive'\n",
        "DRIVE_WORKDIR_PATH = f'{DRIVE_MOUNT_PATH}/MyDrive/mixed-code-hate-speech-research'\n",
        "\n",
        "# Dataset-related constants\n",
        "DATASET_DIR_PATH = f'{DRIVE_WORKDIR_PATH}/dataset'\n",
        "DATASET_PATH = f'{DATASET_DIR_PATH}/dataset_final.csv'\n",
        "\n",
        "# Model-related constants\n",
        "MODEL_NAME = 'xlm-roberta-base'\n",
        "FINE_TUNED_MODEL_OUTPUT_PATH = f'{DRIVE_WORKDIR_PATH}/xlm_roberta_base_tuned_EPOCH_PROGRESSIVE_14'\n",
        "BEST_FINE_TUNED_MODEL_OUTPUT_PATH = f'{DRIVE_WORKDIR_PATH}/xlm_roberta_base_tuned_CHECKPOINT_4'\n",
        "\n",
        "# Dataset split related constants\n",
        "EVALUATION_SIZE = 0.3\n",
        "TEST_SIZE = 1/3\n",
        "RANDOM_STATE = 42\n",
        "\n",
        "# Hyper-parameter constants\n",
        "BATCH_SIZE = 32\n",
        "EPOCHS = 5\n",
        "MINIMUM_EPOCHS = 5\n",
        "MAXIMUM_EPOCHS = 50\n",
        "EPOCHS_DELTA = 5\n",
        "LEARNING_RATE = 2e-5\n",
        "OPTIMIZER_EPS = 1e-8\n",
        "\n",
        "# Fine-tuning parameter constants\n",
        "TOKEN_MAX_LENGTH_PERCENTILE = 0.95"
      ]
    },
    {
      "cell_type": "markdown",
      "metadata": {
        "vscode": {
          "languageId": "plaintext"
        },
        "id": "WF3vaV3n6Cc5"
      },
      "source": [
        "Import necessary libraries"
      ]
    },
    {
      "cell_type": "code",
      "execution_count": null,
      "metadata": {
        "id": "McBaizZt6Cc6"
      },
      "outputs": [],
      "source": [
        "from transformers import XLMRobertaTokenizer, TFXLMRobertaForSequenceClassification, AdamW, get_linear_schedule_with_warmup, create_optimizer\n",
        "import pandas as pd\n",
        "import tensorflow as tf\n",
        "import matplotlib.pyplot as plt\n",
        "import numpy as np\n",
        "\n",
        "from sklearn.metrics import classification_report, accuracy_score, precision_score, recall_score, f1_score, roc_auc_score, roc_curve, confusion_matrix, ConfusionMatrixDisplay\n",
        "\n",
        "from sklearn.model_selection import train_test_split\n",
        "\n",
        "import torch\n",
        "from torch.utils.data import DataLoader, TensorDataset\n",
        "\n",
        "import os\n",
        "\n",
        "import re\n",
        "import random"
      ]
    },
    {
      "cell_type": "markdown",
      "metadata": {
        "id": "nGmRymzf6Cc6"
      },
      "source": [
        "Mount Google Drive for Google Colab usage"
      ]
    },
    {
      "cell_type": "code",
      "execution_count": null,
      "metadata": {
        "id": "puEJDyhM6Cc7",
        "colab": {
          "base_uri": "https://localhost:8080/"
        },
        "outputId": "6d998e04-7a0b-412b-e8f8-93e72f716f7c"
      },
      "outputs": [
        {
          "output_type": "stream",
          "name": "stdout",
          "text": [
            "Mounted at /content/drive\n"
          ]
        }
      ],
      "source": [
        "from google.colab import drive\n",
        "drive.mount(DRIVE_MOUNT_PATH)"
      ]
    },
    {
      "cell_type": "markdown",
      "source": [
        "Set Seeds"
      ],
      "metadata": {
        "id": "OOSLCUbZW7on"
      }
    },
    {
      "cell_type": "code",
      "source": [
        "random.seed(RANDOM_STATE)\n",
        "np.random.seed(RANDOM_STATE)\n",
        "tf.random.set_seed(RANDOM_STATE)\n",
        "torch.manual_seed(RANDOM_STATE)\n",
        "torch.cuda.manual_seed_all(RANDOM_STATE)"
      ],
      "metadata": {
        "id": "MCOoP0lKW4_o"
      },
      "execution_count": null,
      "outputs": []
    },
    {
      "cell_type": "markdown",
      "metadata": {
        "id": "wo9L0iWt6Cc7"
      },
      "source": [
        "Check if GPU is available"
      ]
    },
    {
      "cell_type": "code",
      "execution_count": null,
      "metadata": {
        "id": "grYbE3zS6Cc7",
        "colab": {
          "base_uri": "https://localhost:8080/"
        },
        "outputId": "1aded6bf-a514-4624-b2b5-31faa0fed504"
      },
      "outputs": [
        {
          "output_type": "stream",
          "name": "stdout",
          "text": [
            "GPU is available.\n"
          ]
        }
      ],
      "source": [
        "if tf.config.list_physical_devices('GPU'):\n",
        "    print(\"GPU is available.\")\n",
        "else:\n",
        "    print(\"Using CPU, no GPU detected.\")"
      ]
    },
    {
      "cell_type": "markdown",
      "metadata": {
        "id": "7ACTrHUP6Cc8"
      },
      "source": [
        "Load pre-trained model and tokenizer"
      ]
    },
    {
      "cell_type": "code",
      "execution_count": null,
      "metadata": {
        "id": "IcaKQDJR6Cc8",
        "colab": {
          "base_uri": "https://localhost:8080/"
        },
        "outputId": "627bd540-7e90-495f-fb7b-0d2683726d58"
      },
      "outputs": [
        {
          "output_type": "stream",
          "name": "stderr",
          "text": [
            "/usr/local/lib/python3.10/dist-packages/transformers/tokenization_utils_base.py:1601: FutureWarning: `clean_up_tokenization_spaces` was not set. It will be set to `True` by default. This behavior will be depracted in transformers v4.45, and will be then set to `False` by default. For more details check this issue: https://github.com/huggingface/transformers/issues/31884\n",
            "  warnings.warn(\n",
            "All PyTorch model weights were used when initializing TFXLMRobertaForSequenceClassification.\n",
            "\n",
            "Some weights or buffers of the TF 2.0 model TFXLMRobertaForSequenceClassification were not initialized from the PyTorch model and are newly initialized: ['classifier.dense.weight', 'classifier.dense.bias', 'classifier.out_proj.weight', 'classifier.out_proj.bias']\n",
            "You should probably TRAIN this model on a down-stream task to be able to use it for predictions and inference.\n"
          ]
        }
      ],
      "source": [
        "tokenizer = XLMRobertaTokenizer.from_pretrained(MODEL_NAME)\n",
        "model = TFXLMRobertaForSequenceClassification.from_pretrained(MODEL_NAME, num_labels=2)  # labels is set to 2 for binary classification (hate speech and non-hate speech)"
      ]
    },
    {
      "cell_type": "markdown",
      "metadata": {
        "id": "BOVDhO8g6Cc9"
      },
      "source": [
        "Load dataset"
      ]
    },
    {
      "cell_type": "code",
      "execution_count": null,
      "metadata": {
        "id": "yfEgUcm16Cc9"
      },
      "outputs": [],
      "source": [
        "df = pd.read_csv(DATASET_PATH)"
      ]
    },
    {
      "cell_type": "markdown",
      "metadata": {
        "id": "SuZDVWoh6Cc9"
      },
      "source": [
        "Get dataset length"
      ]
    },
    {
      "cell_type": "code",
      "execution_count": null,
      "metadata": {
        "id": "iy4_eaLo6Cc9",
        "colab": {
          "base_uri": "https://localhost:8080/"
        },
        "outputId": "13d6d7a3-021f-4fcc-ed9d-0985c7081f6f"
      },
      "outputs": [
        {
          "output_type": "stream",
          "name": "stdout",
          "text": [
            "Dataset length : 30000\n"
          ]
        }
      ],
      "source": [
        "print(f'Dataset length : {len(df)}')"
      ]
    },
    {
      "cell_type": "markdown",
      "metadata": {
        "id": "9xoP-nZT6Cc9"
      },
      "source": [
        "Dataset preview"
      ]
    },
    {
      "cell_type": "code",
      "execution_count": null,
      "metadata": {
        "id": "jHgu8ZCa6Cc9",
        "colab": {
          "base_uri": "https://localhost:8080/"
        },
        "outputId": "819325f7-8aed-4f71-8cf9-c6c8ec68ac9a"
      },
      "outputs": [
        {
          "output_type": "stream",
          "name": "stdout",
          "text": [
            "\n",
            "Dataset Preview : \n",
            "                                            sentence  label\n",
            "0  Using derogatory language towards referees dur...    1.0\n",
            "1  The rig supports local community projects, men...    0.0\n",
            "2  Mereka datang hanya untuk berisik, no respect ...    1.0\n",
            "3  Artists and writers find inspiration in the pr...    0.0\n",
            "4  Appreciation emails boost morale, bikin semang...    0.0\n"
          ]
        }
      ],
      "source": [
        "print('\\nDataset Preview : ')\n",
        "print(df.head())"
      ]
    },
    {
      "cell_type": "markdown",
      "metadata": {
        "id": "S8RudpDW6Cc-"
      },
      "source": [
        "Preprocessing modules"
      ]
    },
    {
      "cell_type": "code",
      "execution_count": null,
      "metadata": {
        "id": "VUzCrS0B6Cc-"
      },
      "outputs": [],
      "source": [
        "class XLMRoBERTaTextPreprocessor:\n",
        "    def __init__(self, tokenizer):\n",
        "        self.tokenizer = tokenizer\n",
        "\n",
        "    def handle_contractions(self, text):\n",
        "        \"\"\"Expand contractions in the text.\"\"\"\n",
        "        contractions_dict = {\n",
        "            \"can't\": \"cannot\",\n",
        "            \"won't\": \"will not\",\n",
        "            \"I'm\": \"I am\",\n",
        "            \"you're\": \"you are\",\n",
        "            \"he's\": \"he is\",\n",
        "            \"she's\": \"she is\",\n",
        "            \"it's\": \"it is\",\n",
        "            \"we're\": \"we are\",\n",
        "            \"they're\": \"they are\",\n",
        "            \"I've\": \"I have\",\n",
        "            \"wasn't\": \"was not\",\n",
        "            \"didn't\": \"did not\",\n",
        "            \"don't\": \"do not\",\n",
        "            \"hasn't\": \"has not\",\n",
        "            \"haven't\": \"have not\",\n",
        "            \"wouldn't\": \"would not\",\n",
        "            \"shouldn't\": \"should not\",\n",
        "            \"couldn't\": \"could not\"\n",
        "        }\n",
        "\n",
        "        for contraction, expanded in contractions_dict.items():\n",
        "            text = text.replace(contraction, expanded)\n",
        "\n",
        "        return text\n",
        "\n",
        "    def normalize_whitespace(self, text):\n",
        "        \"\"\"Replace multiple spaces with a single space.\"\"\"\n",
        "        return re.sub(r'\\s+', ' ', text).strip()  # Normalize whitespace and strip leading/trailing spaces\n",
        "\n",
        "    def remove_special_characters(self, text):\n",
        "        \"\"\"Remove special characters from the text.\"\"\"\n",
        "        return re.sub(r'[^\\w\\s]', '', text)  # Remove special characters\n",
        "\n",
        "    def lowercase(self, text):\n",
        "        \"\"\"Convert text to lowercase.\"\"\"\n",
        "        return text.lower()\n",
        "\n",
        "    def tokenize(self, text, max_length):\n",
        "        \"\"\"Tokenize the text using XLM-RoBERTa tokenizer.\"\"\"\n",
        "        \"\"\"Including subword tokenization, padding, and truncation\"\"\"\n",
        "        return self.tokenizer(\n",
        "            text,\n",
        "            padding='max_length',\n",
        "            truncation=True,\n",
        "            max_length=max_length,\n",
        "            return_tensors='tf'\n",
        "        )\n",
        "\n",
        "\n",
        "def find_optimized_token_length(df):\n",
        "    df['token_length'] = df['sentence'].apply(lambda x: len(tokenizer.encode(x, add_special_tokens=True)))\n",
        "\n",
        "    percentile = df['token_length'].quantile(TOKEN_MAX_LENGTH_PERCENTILE)\n",
        "    print(f\"{TOKEN_MAX_LENGTH_PERCENTILE * 100}th percentile token length: {percentile}\")\n",
        "\n",
        "    # Plot token length distribution\n",
        "    df['token_length'].plot(kind='hist', bins=30, edgecolor='black')\n",
        "    plt.xlabel('Token Length')\n",
        "    plt.ylabel('Frequency')\n",
        "    plt.title('Token Length Distribution')\n",
        "    plt.show()\n",
        "\n",
        "    return percentile\n"
      ]
    },
    {
      "cell_type": "markdown",
      "metadata": {
        "id": "YAVf_-F56Cc-"
      },
      "source": [
        "Initialize Preprocessing Module"
      ]
    },
    {
      "cell_type": "code",
      "execution_count": null,
      "metadata": {
        "id": "9OeRvNxt6Cc-"
      },
      "outputs": [],
      "source": [
        "preprocessor = XLMRoBERTaTextPreprocessor(tokenizer)"
      ]
    },
    {
      "cell_type": "markdown",
      "metadata": {
        "id": "UisDubdc6Cc_"
      },
      "source": [
        "Preprocessing Step 1 : Contractions Handling"
      ]
    },
    {
      "cell_type": "code",
      "execution_count": null,
      "metadata": {
        "id": "pXdb5e2d6Cc_",
        "colab": {
          "base_uri": "https://localhost:8080/"
        },
        "outputId": "5d05d00e-fafe-43b7-8d2d-0436cb8da26c"
      },
      "outputs": [
        {
          "output_type": "stream",
          "name": "stdout",
          "text": [
            "\n",
            "Contractions handling result : \n",
            "                                            sentence  label\n",
            "0  Using derogatory language towards referees dur...    1.0\n",
            "1  The rig supports local community projects, men...    0.0\n",
            "2  Mereka datang hanya untuk berisik, no respect ...    1.0\n",
            "3  Artists and writers find inspiration in the pr...    0.0\n",
            "4  Appreciation emails boost morale, bikin semang...    0.0\n"
          ]
        }
      ],
      "source": [
        "df['sentence'] = df['sentence'].apply(preprocessor.handle_contractions)\n",
        "print('\\nContractions handling result : ')\n",
        "print(df.head())"
      ]
    },
    {
      "cell_type": "markdown",
      "metadata": {
        "id": "fb_IrvAS6Cc_"
      },
      "source": [
        "Preprocessing Step 2 : Special Characters Removal"
      ]
    },
    {
      "cell_type": "code",
      "execution_count": null,
      "metadata": {
        "id": "xKKkQ4yQ6Cc_",
        "colab": {
          "base_uri": "https://localhost:8080/"
        },
        "outputId": "dae40c84-a2b1-420e-9271-fd8ff0e902f3"
      },
      "outputs": [
        {
          "output_type": "stream",
          "name": "stdout",
          "text": [
            "\n",
            "Special characters removal result : \n",
            "                                            sentence  label\n",
            "0  Using derogatory language towards referees dur...    1.0\n",
            "1  The rig supports local community projects mend...    0.0\n",
            "2  Mereka datang hanya untuk berisik no respect f...    1.0\n",
            "3  Artists and writers find inspiration in the pr...    0.0\n",
            "4  Appreciation emails boost morale bikin semanga...    0.0\n"
          ]
        }
      ],
      "source": [
        "df['sentence'] = df['sentence'].apply(lambda x : preprocessor.remove_special_characters(x))\n",
        "print('\\nSpecial characters removal result : ')\n",
        "print(df.head())"
      ]
    },
    {
      "cell_type": "markdown",
      "metadata": {
        "id": "s9mt-ZKT6Cc_"
      },
      "source": [
        "Preprocessing Step 3 : Whitespace Normalization"
      ]
    },
    {
      "cell_type": "code",
      "execution_count": null,
      "metadata": {
        "id": "guMgIdr56Cc_",
        "colab": {
          "base_uri": "https://localhost:8080/"
        },
        "outputId": "a8647ee3-cc2f-4da5-9ed2-b537909a5464"
      },
      "outputs": [
        {
          "output_type": "stream",
          "name": "stdout",
          "text": [
            "\n",
            "Whitespace normalization result : \n",
            "                                            sentence  label\n",
            "0  Using derogatory language towards referees dur...    1.0\n",
            "1  The rig supports local community projects mend...    0.0\n",
            "2  Mereka datang hanya untuk berisik no respect f...    1.0\n",
            "3  Artists and writers find inspiration in the pr...    0.0\n",
            "4  Appreciation emails boost morale bikin semanga...    0.0\n"
          ]
        }
      ],
      "source": [
        "df['sentence'] = df['sentence'].apply(preprocessor.normalize_whitespace)\n",
        "print('\\nWhitespace normalization result : ')\n",
        "print(df.head())"
      ]
    },
    {
      "cell_type": "markdown",
      "metadata": {
        "id": "aYRpl8lR6Cc_"
      },
      "source": [
        "Preprocessing Step 4 : Lowercasing"
      ]
    },
    {
      "cell_type": "code",
      "execution_count": null,
      "metadata": {
        "id": "3ixu8CDJ6CdA",
        "colab": {
          "base_uri": "https://localhost:8080/"
        },
        "outputId": "f66438ce-1c73-4780-a921-56f5f2c36d1c"
      },
      "outputs": [
        {
          "output_type": "stream",
          "name": "stdout",
          "text": [
            "\n",
            "Lowercasing result : \n",
            "                                            sentence  label\n",
            "0  using derogatory language towards referees dur...    1.0\n",
            "1  the rig supports local community projects mend...    0.0\n",
            "2  mereka datang hanya untuk berisik no respect f...    1.0\n",
            "3  artists and writers find inspiration in the pr...    0.0\n",
            "4  appreciation emails boost morale bikin semanga...    0.0\n"
          ]
        }
      ],
      "source": [
        "df['sentence'] = df['sentence'].apply(preprocessor.lowercase)\n",
        "print('\\nLowercasing result : ')\n",
        "print(df.head())"
      ]
    },
    {
      "cell_type": "markdown",
      "source": [
        "Find the most optimized max token length"
      ],
      "metadata": {
        "id": "CGgwtQy6uD04"
      }
    },
    {
      "cell_type": "code",
      "source": [
        "max_length = int(find_optimized_token_length(df))\n",
        "print(f'Max token length : {max_length}')"
      ],
      "metadata": {
        "colab": {
          "base_uri": "https://localhost:8080/",
          "height": 507
        },
        "id": "0mkrrRsuuItV",
        "outputId": "2ea36f46-31f4-4606-a16c-79f77f376fbf"
      },
      "execution_count": null,
      "outputs": [
        {
          "output_type": "stream",
          "name": "stdout",
          "text": [
            "95.0th percentile token length: 23.0\n"
          ]
        },
        {
          "output_type": "display_data",
          "data": {
            "text/plain": [
              "<Figure size 640x480 with 1 Axes>"
            ],
            "image/png": "[encoded data removed]"
          },
          "metadata": {}
        },
        {
          "output_type": "stream",
          "name": "stdout",
          "text": [
            "Max token length : 23\n"
          ]
        }
      ]
    },
    {
      "cell_type": "markdown",
      "source": [
        "Drop duplicates if exists"
      ],
      "metadata": {
        "id": "b3DwRj9quNdP"
      }
    },
    {
      "cell_type": "code",
      "source": [
        "df = df.drop_duplicates(subset=['sentence'])"
      ],
      "metadata": {
        "id": "aN8a4EzKuQ7H"
      },
      "execution_count": null,
      "outputs": []
    },
    {
      "cell_type": "markdown",
      "metadata": {
        "id": "7I0o5CUr6CdA"
      },
      "source": [
        "Split Dataset"
      ]
    },
    {
      "cell_type": "code",
      "execution_count": null,
      "metadata": {
        "id": "uG2zkTXk6CdA",
        "colab": {
          "base_uri": "https://localhost:8080/"
        },
        "outputId": "ea6b3ac9-d859-4068-c740-462ae421aa70"
      },
      "outputs": [
        {
          "output_type": "stream",
          "name": "stdout",
          "text": [
            "(20802,) (20802, 2)\n",
            "(5944,) (5944, 2)\n",
            "(2972,) (2972, 2)\n",
            "Training set length: 20802\n",
            "Validation set length: 5944\n",
            "Test set length: 2972\n"
          ]
        }
      ],
      "source": [
        "texts = df['sentence'].values\n",
        "labels = df['label'].values  # 0 represents non-hate speech, 1 represents hate-speech\n",
        "\n",
        "# Set training size to 70%, 20% for validation, and 10% for test.\n",
        "X_train, X_temp, y_train, y_temp = train_test_split(texts, labels, test_size=EVALUATION_SIZE, random_state=RANDOM_STATE)\n",
        "X_val, X_test, y_val, y_test = train_test_split(X_temp, y_temp, test_size=TEST_SIZE, random_state=RANDOM_STATE)\n",
        "\n",
        "y_train = tf.keras.utils.to_categorical(y_train, num_classes=2)\n",
        "y_val = tf.keras.utils.to_categorical(y_val, num_classes=2)\n",
        "y_test = tf.keras.utils.to_categorical(y_test, num_classes=2)\n",
        "\n",
        "print(X_train.shape, y_train.shape)\n",
        "print(X_val.shape, y_val.shape)\n",
        "print(X_test.shape, y_test.shape)\n",
        "\n",
        "print(f\"Training set length: {len(X_train)}\")\n",
        "print(f\"Validation set length: {len(X_val)}\")\n",
        "print(f\"Test set length: {len(X_test)}\")"
      ]
    },
    {
      "cell_type": "markdown",
      "source": [
        "Label Counts for Training, Validation, and Test Set"
      ],
      "metadata": {
        "id": "TX_S8JkTawkQ"
      }
    },
    {
      "cell_type": "code",
      "source": [
        "# Count labels for each split\n",
        "train_label_counts = pd.Series(y_train.argmax(axis=1)).value_counts()\n",
        "val_label_counts = pd.Series(y_val.argmax(axis=1)).value_counts()\n",
        "test_label_counts = pd.Series(y_test.argmax(axis=1)).value_counts()\n",
        "\n",
        "# Print label counts\n",
        "print(\"\\nTraining label counts:\\n\", train_label_counts)\n",
        "print(\"\\nValidation label counts:\\n\", val_label_counts)\n",
        "print(\"\\nTest label counts:\\n\", test_label_counts)"
      ],
      "metadata": {
        "colab": {
          "base_uri": "https://localhost:8080/"
        },
        "id": "PcuzO6_yazix",
        "outputId": "dd93e913-ef13-492b-8187-4202eb839216"
      },
      "execution_count": null,
      "outputs": [
        {
          "output_type": "stream",
          "name": "stdout",
          "text": [
            "\n",
            "Training label counts:\n",
            " 0    10435\n",
            "1    10367\n",
            "Name: count, dtype: int64\n",
            "\n",
            "Validation label counts:\n",
            " 1    3027\n",
            "0    2917\n",
            "Name: count, dtype: int64\n",
            "\n",
            "Test label counts:\n",
            " 0    1488\n",
            "1    1484\n",
            "Name: count, dtype: int64\n"
          ]
        }
      ]
    },
    {
      "cell_type": "markdown",
      "source": [
        "Check for Data Leakage"
      ],
      "metadata": {
        "id": "CcwgKrFTaPlx"
      }
    },
    {
      "cell_type": "code",
      "source": [
        "# Convert to sets for unique values\n",
        "train_texts_set = set(X_train)\n",
        "val_texts_set = set(X_val)\n",
        "\n",
        "# Find intersection\n",
        "leakage = train_texts_set.intersection(val_texts_set)\n",
        "if leakage:\n",
        "    print(f'Data leakage detected! {len(leakage)} duplicate(s) found.\\n')\n",
        "    print(\"Duplicate texts:\")\n",
        "    for text in leakage:\n",
        "        print(text)\n",
        "else:\n",
        "    print(\"No data leakage detected.\")"
      ],
      "metadata": {
        "colab": {
          "base_uri": "https://localhost:8080/"
        },
        "id": "a15zbZ0saSQn",
        "outputId": "d21a47e6-a0db-4c36-fc51-7cc31522d671"
      },
      "execution_count": null,
      "outputs": [
        {
          "output_type": "stream",
          "name": "stdout",
          "text": [
            "No data leakage detected.\n"
          ]
        }
      ]
    },
    {
      "cell_type": "markdown",
      "source": [
        "Tokenization (include sub-word tokenization, padding, and truncation)"
      ],
      "metadata": {
        "id": "3frMs3Auetxm"
      }
    },
    {
      "cell_type": "code",
      "source": [
        "train_encodings = preprocessor.tokenize(X_train.tolist(), max_length)\n",
        "val_encodings = preprocessor.tokenize(X_val.tolist(), max_length)\n",
        "test_encodings = preprocessor.tokenize(X_test.tolist(), max_length)"
      ],
      "metadata": {
        "id": "xa5VkhAKeza6"
      },
      "execution_count": null,
      "outputs": []
    },
    {
      "cell_type": "code",
      "source": [
        "print(train_encodings)"
      ],
      "metadata": {
        "colab": {
          "base_uri": "https://localhost:8080/"
        },
        "id": "bg3pjbYM7kO_",
        "outputId": "94dfad91-2999-49d6-f4a0-6c7f53721108"
      },
      "execution_count": null,
      "outputs": [
        {
          "output_type": "stream",
          "name": "stdout",
          "text": [
            "{'input_ids': <tf.Tensor: shape=(20802, 23), dtype=int32, numpy=\n",
            "array([[     0,     70, 227234, ...,    331,   2747,      2],\n",
            "       [     0,    352,  62783, ...,      1,      1,      1],\n",
            "       [     0,  65296,  54704, ...,      1,      1,      1],\n",
            "       ...,\n",
            "       [     0,  17368,    182, ...,    164,    123,      2],\n",
            "       [     0,    642,   3871, ...,      1,      1,      1],\n",
            "       [     0,  28512,    119, ...,      1,      1,      1]], dtype=int32)>, 'attention_mask': <tf.Tensor: shape=(20802, 23), dtype=int32, numpy=\n",
            "array([[1, 1, 1, ..., 1, 1, 1],\n",
            "       [1, 1, 1, ..., 0, 0, 0],\n",
            "       [1, 1, 1, ..., 0, 0, 0],\n",
            "       ...,\n",
            "       [1, 1, 1, ..., 1, 1, 1],\n",
            "       [1, 1, 1, ..., 0, 0, 0],\n",
            "       [1, 1, 1, ..., 0, 0, 0]], dtype=int32)>}\n"
          ]
        }
      ]
    },
    {
      "cell_type": "markdown",
      "source": [
        "Create Tensorflow Dataset"
      ],
      "metadata": {
        "id": "2Mm3kmKBvu9N"
      }
    },
    {
      "cell_type": "code",
      "source": [
        "train_dataset = tf.data.Dataset.from_tensor_slices((\n",
        "    {\n",
        "        'input_ids': train_encodings['input_ids'],\n",
        "        'attention_mask': train_encodings['attention_mask']\n",
        "    },\n",
        "    y_train\n",
        ")).batch(BATCH_SIZE)\n",
        "\n",
        "val_dataset = tf.data.Dataset.from_tensor_slices((\n",
        "    {\n",
        "        'input_ids': val_encodings['input_ids'],\n",
        "        'attention_mask': val_encodings['attention_mask']\n",
        "    },\n",
        "    y_val\n",
        ")).batch(BATCH_SIZE)"
      ],
      "metadata": {
        "id": "rBxnw2_yvvZA"
      },
      "execution_count": null,
      "outputs": []
    },
    {
      "cell_type": "markdown",
      "source": [
        "Custom Learning Rate Scheduler Module"
      ],
      "metadata": {
        "id": "flLM9qFmnZdS"
      }
    },
    {
      "cell_type": "code",
      "source": [
        "# class LearningRateScheduler(tf.keras.callbacks.Callback):\n",
        "#     def __init__(self, initial_lr, total_steps, warmup_steps):\n",
        "#         super().__init__()\n",
        "#         self.initial_lr = initial_lr\n",
        "#         self.total_steps = total_steps\n",
        "#         self.warmup_steps = warmup_steps\n",
        "\n",
        "#     def on_batch_end(self, batch, logs=None):\n",
        "#         if self.model.optimizer.iterations < self.warmup_steps:\n",
        "#             lr = self.initial_lr * (self.model.optimizer.iterations / self.warmup_steps)\n",
        "#         else:\n",
        "#             lr = self.initial_lr * max(0, (self.total_steps - self.model.optimizer.iterations) / (self.total_steps - self.warmup_steps))\n",
        "\n",
        "#         tf.keras.backend.set_value(self.model.optimizer.learning_rate, lr)\n",
        "\n",
        "\n",
        "class LearningRateScheduler(tf.keras.callbacks.Callback):\n",
        "    def __init__(self, constant_lr):\n",
        "        super().__init__()\n",
        "        self.constant_lr = constant_lr\n",
        "\n",
        "    def on_batch_end(self, batch, logs=None):\n",
        "        # Set the learning rate to a constant value\n",
        "        tf.keras.backend.set_value(self.model.optimizer.learning_rate, self.constant_lr)\n"
      ],
      "metadata": {
        "id": "xMcMKwtCndUK"
      },
      "execution_count": null,
      "outputs": []
    },
    {
      "cell_type": "markdown",
      "source": [
        "Best Epoch Tracker Module"
      ],
      "metadata": {
        "id": "FRiPxNa9x-81"
      }
    },
    {
      "cell_type": "code",
      "source": [
        "class BestEpochTracker(tf.keras.callbacks.Callback):\n",
        "    def __init__(self):\n",
        "        super(BestEpochTracker, self).__init__()\n",
        "        self.best_epoch = 0\n",
        "        self.best_val_loss = float('inf')\n",
        "\n",
        "    def on_epoch_end(self, epoch, logs=None):\n",
        "        current_val_loss = logs.get('val_loss')\n",
        "        if current_val_loss < self.best_val_loss:\n",
        "            self.best_val_loss = current_val_loss\n",
        "            self.best_epoch = epoch + 1"
      ],
      "metadata": {
        "id": "Wfry6Q4Zx-ak"
      },
      "execution_count": null,
      "outputs": []
    },
    {
      "cell_type": "markdown",
      "source": [
        "Initialize Best Epoch Tracker"
      ],
      "metadata": {
        "id": "UO8J7npDyEIc"
      }
    },
    {
      "cell_type": "code",
      "source": [
        "best_epoch_tracker = BestEpochTracker()"
      ],
      "metadata": {
        "id": "cbiISdVYyHa_"
      },
      "execution_count": null,
      "outputs": []
    },
    {
      "cell_type": "markdown",
      "source": [
        "Set Up Early Stopper"
      ],
      "metadata": {
        "id": "BUFIMCdZjVpc"
      }
    },
    {
      "cell_type": "code",
      "source": [
        "early_stopping = tf.keras.callbacks.EarlyStopping(\n",
        "    monitor='val_loss',  # Monitor the validation loss\n",
        "    patience=EPOCHS_DELTA,\n",
        "    verbose=1,\n",
        "    restore_best_weights=True,  # Restore model weights from the epoch with the lowest loss\n",
        "    mode='min'           # Minimize the validation loss\n",
        ")"
      ],
      "metadata": {
        "id": "whbg7qTHjX8X"
      },
      "execution_count": null,
      "outputs": []
    },
    {
      "cell_type": "markdown",
      "source": [
        "Set Up Model Checkpoint"
      ],
      "metadata": {
        "id": "RR7PJ-K7lfPJ"
      }
    },
    {
      "cell_type": "code",
      "source": [
        "checkpoint = tf.keras.callbacks.ModelCheckpoint(\n",
        "    f'{BEST_FINE_TUNED_MODEL_OUTPUT_PATH}/model',\n",
        "    monitor='val_loss',\n",
        "    mode='min',\n",
        "    verbose=1,\n",
        "    save_format='tf'\n",
        ")\n",
        "checkpoint.save_best_only = False\n",
        "checkpoint.restore_best_weights = False"
      ],
      "metadata": {
        "id": "WLNiTmG7lgh9"
      },
      "execution_count": null,
      "outputs": []
    },
    {
      "cell_type": "markdown",
      "source": [
        "Set Up Optimizer"
      ],
      "metadata": {
        "id": "LZE23F9BYEDE"
      }
    },
    {
      "cell_type": "code",
      "source": [
        "optimizer = tf.keras.optimizers.AdamW(learning_rate=LEARNING_RATE)"
      ],
      "metadata": {
        "id": "iAJhkRnIYSRJ"
      },
      "execution_count": null,
      "outputs": []
    },
    {
      "cell_type": "markdown",
      "source": [
        "Set Up Scheduler"
      ],
      "metadata": {
        "id": "dHrvR0dEnjNN"
      }
    },
    {
      "cell_type": "code",
      "source": [
        "# total_steps = len(train_dataset) * EPOCHS\n",
        "total_steps = len(train_dataset) * MAXIMUM_EPOCHS\n",
        "warmup_steps = int(0.1 * total_steps)  # 10% of total steps for warmup\n",
        "\n",
        "# lr_scheduler = LearningRateScheduler(LEARNING_RATE, total_steps, warmup_steps)\n",
        "lr_scheduler = LearningRateScheduler(LEARNING_RATE)"
      ],
      "metadata": {
        "id": "fiyfrVnxnk2w"
      },
      "execution_count": null,
      "outputs": []
    },
    {
      "cell_type": "markdown",
      "source": [
        "Set Up Loss Function"
      ],
      "metadata": {
        "id": "cRSsu6NTCLdf"
      }
    },
    {
      "cell_type": "code",
      "source": [
        "loss_function = tf.keras.losses.BinaryCrossentropy()\n",
        "# loss_function = tf.keras.losses.SparseCategoricalCrossentropy(from_logits=True)"
      ],
      "metadata": {
        "id": "O8q4BU2wCPsg"
      },
      "execution_count": null,
      "outputs": []
    },
    {
      "cell_type": "markdown",
      "source": [
        "Compile the model"
      ],
      "metadata": {
        "id": "by-g_bTF9MGk"
      }
    },
    {
      "cell_type": "code",
      "source": [
        "model.compile(\n",
        "    optimizer=optimizer,\n",
        "    loss=loss_function,\n",
        "    metrics=['accuracy', tf.keras.metrics.Precision(name='precision'), tf.keras.metrics.Recall(name='recall')],\n",
        "    # callbacks=[early_stopping]\n",
        "    # metrics=['accuracy', 'Precision', 'Recall'],\n",
        "    # metrics=['accuracy'],\n",
        ")"
      ],
      "metadata": {
        "id": "1UE8ekoY9O2f"
      },
      "execution_count": null,
      "outputs": []
    },
    {
      "cell_type": "markdown",
      "source": [
        "Model Summary"
      ],
      "metadata": {
        "id": "D5k0dgz06iCh"
      }
    },
    {
      "cell_type": "code",
      "source": [
        "model.summary()"
      ],
      "metadata": {
        "colab": {
          "base_uri": "https://localhost:8080/"
        },
        "id": "GN4dxYWL6i-l",
        "outputId": "7c1298eb-acaf-44bc-8ab7-44634b58e892"
      },
      "execution_count": null,
      "outputs": [
        {
          "output_type": "stream",
          "name": "stdout",
          "text": [
            "Model: \"tfxlm_roberta_for_sequence_classification_2\"\n",
            "_________________________________________________________________\n",
            " Layer (type)                Output Shape              Param #   \n",
            "=================================================================\n",
            " roberta (TFXLMRobertaMainL  multiple                  277453056 \n",
            " ayer)                                                           \n",
            "                                                                 \n",
            " classifier (TFXLMRobertaCl  multiple                  592130    \n",
            " assificationHead)                                               \n",
            "                                                                 \n",
            "=================================================================\n",
            "Total params: 278045186 (1.04 GB)\n",
            "Trainable params: 278045186 (1.04 GB)\n",
            "Non-trainable params: 0 (0.00 Byte)\n",
            "_________________________________________________________________\n"
          ]
        }
      ]
    },
    {
      "cell_type": "markdown",
      "source": [
        "Model Training"
      ],
      "metadata": {
        "id": "nLjX5WJbATSS"
      }
    },
    {
      "cell_type": "code",
      "source": [
        "history = model.fit(\n",
        "    train_dataset,\n",
        "    validation_data=val_dataset,\n",
        "    epochs=MINIMUM_EPOCHS - 1,\n",
        "    callbacks=[checkpoint]\n",
        ")"
      ],
      "metadata": {
        "colab": {
          "base_uri": "https://localhost:8080/"
        },
        "id": "pC-_sqEqAXf8",
        "outputId": "d1e9bb17-2ff7-4cc2-c4ad-9ace89ce88e6"
      },
      "execution_count": null,
      "outputs": [
        {
          "output_type": "stream",
          "name": "stdout",
          "text": [
            "Epoch 1/4\n",
            "651/651 [==============================] - ETA: 0s - loss: 0.4068 - accuracy: 0.9146 - precision: 0.9293 - recall: 0.8575\n",
            "Epoch 1: saving model to /content/drive/MyDrive/mixed-code-hate-speech-research/xlm_roberta_base_tuned_CHECKPOINT_4/model\n",
            "651/651 [==============================] - 174s 210ms/step - loss: 0.4068 - accuracy: 0.9146 - precision: 0.9293 - recall: 0.8575 - val_loss: 0.2089 - val_accuracy: 0.9770 - val_precision: 0.9760 - val_recall: 0.9785\n",
            "Epoch 2/4\n",
            "651/651 [==============================] - ETA: 0s - loss: 0.1235 - accuracy: 0.9784 - precision: 0.9762 - recall: 0.9788\n",
            "Epoch 2: saving model to /content/drive/MyDrive/mixed-code-hate-speech-research/xlm_roberta_base_tuned_CHECKPOINT_4/model\n",
            "651/651 [==============================] - 128s 196ms/step - loss: 0.1235 - accuracy: 0.9784 - precision: 0.9762 - recall: 0.9788 - val_loss: 0.0603 - val_accuracy: 0.9894 - val_precision: 0.9891 - val_recall: 0.9896\n",
            "Epoch 3/4\n",
            "651/651 [==============================] - ETA: 0s - loss: 0.2542 - accuracy: 0.9436 - precision: 0.9446 - recall: 0.9361\n",
            "Epoch 3: saving model to /content/drive/MyDrive/mixed-code-hate-speech-research/xlm_roberta_base_tuned_CHECKPOINT_4/model\n",
            "651/651 [==============================] - 130s 200ms/step - loss: 0.2542 - accuracy: 0.9436 - precision: 0.9446 - recall: 0.9361 - val_loss: 0.0776 - val_accuracy: 0.9812 - val_precision: 0.9825 - val_recall: 0.9805\n",
            "Epoch 4/4\n",
            "651/651 [==============================] - ETA: 0s - loss: 0.1037 - accuracy: 0.9810 - precision: 0.9816 - recall: 0.9766\n",
            "Epoch 4: saving model to /content/drive/MyDrive/mixed-code-hate-speech-research/xlm_roberta_base_tuned_CHECKPOINT_4/model\n",
            "651/651 [==============================] - 126s 193ms/step - loss: 0.1037 - accuracy: 0.9810 - precision: 0.9816 - recall: 0.9766 - val_loss: 0.0542 - val_accuracy: 0.9864 - val_precision: 0.9864 - val_recall: 0.9865\n"
          ]
        }
      ]
    },
    {
      "cell_type": "markdown",
      "source": [
        "Load Model Weight"
      ],
      "metadata": {
        "id": "0b2PH2_VNQxz"
      }
    },
    {
      "cell_type": "code",
      "source": [
        "model.load_weights(f'{BEST_FINE_TUNED_MODEL_OUTPUT_PATH}/model')"
      ],
      "metadata": {
        "colab": {
          "base_uri": "https://localhost:8080/"
        },
        "id": "WXmJN8l0NSQW",
        "outputId": "82ff3509-07d7-47e9-be29-1e5c2ea45907"
      },
      "execution_count": null,
      "outputs": [
        {
          "output_type": "execute_result",
          "data": {
            "text/plain": [
              "<tensorflow.python.checkpoint.checkpoint.CheckpointLoadStatus at 0x79fd8c1a6020>"
            ]
          },
          "metadata": {},
          "execution_count": 66
        }
      ]
    },
    {
      "cell_type": "markdown",
      "source": [
        "Temporary Evaluation Metrics"
      ],
      "metadata": {
        "id": "7NXA4SUD8wuk"
      }
    },
    {
      "cell_type": "code",
      "source": [
        "loss = history.history['loss']\n",
        "val_loss = history.history['val_loss']\n",
        "accuracy = history.history['accuracy']\n",
        "val_accuracy = history.history['val_accuracy']\n",
        "precision = history.history.get('precision', [])\n",
        "val_precision = history.history.get('val_precision', [])\n",
        "recall = history.history.get('recall', [])\n",
        "val_recall = history.history.get('val_recall', [])\n",
        "\n",
        "print(\"All Training Loss Values:\", loss)\n",
        "print(\"All Validation Loss Values:\", val_loss)\n",
        "print(\"All Training Accuracy Values:\", accuracy)\n",
        "print(\"All Validation Accuracy Values:\", val_accuracy)\n",
        "print(\"All Training Precision Values:\", precision if precision else \"N/A\")\n",
        "print(\"All Validation Precision Values:\", val_precision if val_precision else \"N/A\")\n",
        "print(\"All Training Recall Values:\", recall if recall else \"N/A\")\n",
        "print(\"All Validation Recall Values:\", val_recall if val_recall else \"N/A\")"
      ],
      "metadata": {
        "id": "OsxB-GAn8y6L",
        "colab": {
          "base_uri": "https://localhost:8080/"
        },
        "outputId": "5deabf01-bda9-4a9a-c74b-5b2cc828fe1d"
      },
      "execution_count": null,
      "outputs": [
        {
          "output_type": "stream",
          "name": "stdout",
          "text": [
            "All Training Loss Values: [0.406843900680542, 0.12352748960256577, 0.25417861342430115, 0.10367394983768463]\n",
            "All Validation Loss Values: [0.20894455909729004, 0.060259416699409485, 0.07763839513063431, 0.05418545380234718]\n",
            "All Training Accuracy Values: [0.9146236181259155, 0.9783674478530884, 0.9435631036758423, 0.9810114502906799]\n",
            "All Validation Accuracy Values: [0.976951539516449, 0.98940110206604, 0.9811574816703796, 0.9863728284835815]\n",
            "All Training Precision Values: [0.9293492436408997, 0.9762178659439087, 0.9446492791175842, 0.9816389679908752]\n",
            "All Validation Precision Values: [0.9760026931762695, 0.9890701174736023, 0.9824679493904114, 0.986375093460083]\n",
            "All Training Recall Values: [0.8574656248092651, 0.9787520170211792, 0.9361119270324707, 0.9766368865966797]\n",
            "All Validation Recall Values: [0.9784656763076782, 0.9895693063735962, 0.9804845452308655, 0.9865410327911377]\n"
          ]
        }
      ]
    },
    {
      "cell_type": "markdown",
      "source": [
        "Get Minimum Validation Loss for MINIMUM_EPOCHS"
      ],
      "metadata": {
        "id": "xBCepSWFmw1Y"
      }
    },
    {
      "cell_type": "code",
      "source": [
        "min_val_loss_epochs = min(history.history['val_loss'])\n",
        "print(f'Validation loss for {MINIMUM_EPOCHS - 1} epochs : {min_val_loss_epochs}')"
      ],
      "metadata": {
        "colab": {
          "base_uri": "https://localhost:8080/"
        },
        "id": "nppcwfQam4QD",
        "outputId": "ff4bdbad-1b66-418a-a0c2-03eb2d262291"
      },
      "execution_count": null,
      "outputs": [
        {
          "output_type": "stream",
          "name": "stdout",
          "text": [
            "Validation loss for 4 epochs : 0.05418545380234718\n"
          ]
        }
      ]
    },
    {
      "cell_type": "markdown",
      "source": [
        "Find the Least Validation Loss"
      ],
      "metadata": {
        "id": "rgL8YYA2nmWH"
      }
    },
    {
      "cell_type": "code",
      "source": [
        "checkpoint.save_best_only = True\n",
        "checkpoint.restore_best_weights = True\n",
        "\n",
        "higher_val_loss_count = 0\n",
        "epochs_upper_bound = MINIMUM_EPOCHS + EPOCHS_DELTA\n",
        "epoch = MINIMUM_EPOCHS\n",
        "while epoch <= epochs_upper_bound:\n",
        "    if epoch > MAXIMUM_EPOCHS:\n",
        "        print(\"Reached the maximum number of epochs. Stopping training...\")\n",
        "        break\n",
        "\n",
        "    print(f\"Training epoch {epoch}\")\n",
        "\n",
        "    history = model.fit(train_dataset,\n",
        "                        validation_data=val_dataset,\n",
        "                        initial_epoch=epoch-1,\n",
        "                        epochs=epoch,\n",
        "                        callbacks=[checkpoint, best_epoch_tracker])\n",
        "\n",
        "    # Store metrics\n",
        "    loss.extend(history.history['loss'])\n",
        "    val_loss.extend(history.history['val_loss'])\n",
        "    accuracy.extend(history.history['accuracy'])\n",
        "    val_accuracy.extend(history.history['val_accuracy'])\n",
        "    precision.extend(history.history.get('precision', []))\n",
        "    val_precision.extend(history.history.get('val_precision', []))\n",
        "    recall.extend(history.history.get('recall', []))\n",
        "    val_recall.extend(history.history.get('val_recall', []))\n",
        "\n",
        "    # Calculate the number of epochs\n",
        "    history_num_epochs = len(loss)\n",
        "\n",
        "    print(\"All Training Loss Values:\", loss)\n",
        "    print(\"All Validation Loss Values:\", val_loss)\n",
        "    print(\"All Training Accuracy Values:\", accuracy)\n",
        "    print(\"All Validation Accuracy Values:\", val_accuracy)\n",
        "    print(\"All Training Precision Values:\", precision if precision else \"N/A\")\n",
        "    print(\"All Validation Precision Values:\", val_precision if val_precision else \"N/A\")\n",
        "    print(\"All Training Recall Values:\", recall if recall else \"N/A\")\n",
        "    print(\"All Validation Recall Values:\", val_recall if val_recall else \"N/A\")\n",
        "    print(\"Latest epoch for history metric\", history_num_epochs)\n",
        "\n",
        "\n",
        "    # If a lower validation loss is found, continue training, otherwise stop\n",
        "    if min(history.history['val_loss']) < min_val_loss_epochs and epoch != MINIMUM_EPOCHS:\n",
        "        print(f\"New lower validation loss found at epoch {epoch}. Continuing training...\")\n",
        "        min_val_loss_epochs = min(history.history['val_loss'])\n",
        "        epochs_upper_bound = epoch + EPOCHS_DELTA\n",
        "        higher_val_loss_count = 0\n",
        "\n",
        "        # Save the model weights corresponding to the best epoch\n",
        "        model.save_weights(f'{BEST_FINE_TUNED_MODEL_OUTPUT_PATH}/model')\n",
        "    elif epoch != MINIMUM_EPOCHS:\n",
        "        higher_val_loss_count += 1\n",
        "        print(f\"Higher or equal validation loss found at epoch {epoch}. Continue training\")\n",
        "    else:\n",
        "        min_val_loss_epochs = min(history.history['val_loss'])\n",
        "        model.save_weights(f'{BEST_FINE_TUNED_MODEL_OUTPUT_PATH}/model')\n",
        "\n",
        "    epoch += 1\n",
        "    if higher_val_loss_count >= EPOCHS_DELTA:\n",
        "        print(f\"No improvement in validation loss for {EPOCHS_DELTA} epochs. Stopping training...\")\n",
        "        break"
      ],
      "metadata": {
        "colab": {
          "base_uri": "https://localhost:8080/"
        },
        "id": "JPmpVwyyn787",
        "outputId": "2d742000-59ba-4e87-fb0c-13b8a8cebbf8"
      },
      "execution_count": null,
      "outputs": [
        {
          "output_type": "stream",
          "name": "stdout",
          "text": [
            "Training epoch 5\n",
            "Epoch 5/5\n",
            "651/651 [==============================] - ETA: 0s - loss: 0.0517 - accuracy: 0.9932 - precision: 0.9927 - recall: 0.9930\n",
            "Epoch 5: val_loss improved from inf to 0.07908, saving model to /content/drive/MyDrive/mixed-code-hate-speech-research/xlm_roberta_base_tuned_CHECKPOINT_4/model\n",
            "651/651 [==============================] - 124s 191ms/step - loss: 0.0517 - accuracy: 0.9932 - precision: 0.9927 - recall: 0.9930 - val_loss: 0.0791 - val_accuracy: 0.9906 - val_precision: 0.9901 - val_recall: 0.9907\n",
            "All Training Loss Values: [0.406843900680542, 0.12352748960256577, 0.25417861342430115, 0.10367394983768463, 0.05174192041158676]\n",
            "All Validation Loss Values: [0.20894455909729004, 0.060259416699409485, 0.07763839513063431, 0.05418545380234718, 0.07908424735069275]\n",
            "All Training Accuracy Values: [0.9146236181259155, 0.9783674478530884, 0.9435631036758423, 0.9810114502906799, 0.9932218194007874]\n",
            "All Validation Accuracy Values: [0.976951539516449, 0.98940110206604, 0.9811574816703796, 0.9863728284835815, 0.9905787110328674]\n",
            "All Training Precision Values: [0.9293492436408997, 0.9762178659439087, 0.9446492791175842, 0.9816389679908752, 0.9926954507827759]\n",
            "All Validation Precision Values: [0.9760026931762695, 0.9890701174736023, 0.9824679493904114, 0.986375093460083, 0.990080714225769]\n",
            "All Training Recall Values: [0.8574656248092651, 0.9787520170211792, 0.9361119270324707, 0.9766368865966797, 0.9930295348167419]\n",
            "All Validation Recall Values: [0.9784656763076782, 0.9895693063735962, 0.9804845452308655, 0.9865410327911377, 0.9907469749450684]\n",
            "Latest epoch for history metric 5\n",
            "Training epoch 6\n",
            "Epoch 6/6\n",
            "651/651 [==============================] - ETA: 0s - loss: 0.0767 - accuracy: 0.9904 - precision: 0.9908 - recall: 0.9897\n",
            "Epoch 6: val_loss improved from 0.07908 to 0.06033, saving model to /content/drive/MyDrive/mixed-code-hate-speech-research/xlm_roberta_base_tuned_CHECKPOINT_4/model\n",
            "651/651 [==============================] - 128s 197ms/step - loss: 0.0767 - accuracy: 0.9904 - precision: 0.9908 - recall: 0.9897 - val_loss: 0.0603 - val_accuracy: 0.9876 - val_precision: 0.9879 - val_recall: 0.9872\n",
            "All Training Loss Values: [0.406843900680542, 0.12352748960256577, 0.25417861342430115, 0.10367394983768463, 0.05174192041158676, 0.07667097449302673]\n",
            "All Validation Loss Values: [0.20894455909729004, 0.060259416699409485, 0.07763839513063431, 0.05418545380234718, 0.07908424735069275, 0.06033254414796829]\n",
            "All Training Accuracy Values: [0.9146236181259155, 0.9783674478530884, 0.9435631036758423, 0.9810114502906799, 0.9932218194007874, 0.9904336333274841]\n",
            "All Validation Accuracy Values: [0.976951539516449, 0.98940110206604, 0.9811574816703796, 0.9863728284835815, 0.9905787110328674, 0.9875504970550537]\n",
            "All Training Precision Values: [0.9293492436408997, 0.9762178659439087, 0.9446492791175842, 0.9816389679908752, 0.9926954507827759, 0.9908080101013184]\n",
            "All Validation Precision Values: [0.9760026931762695, 0.9890701174736023, 0.9824679493904114, 0.986375093460083, 0.990080714225769, 0.9878787994384766]\n",
            "All Training Recall Values: [0.8574656248092651, 0.9787520170211792, 0.9361119270324707, 0.9766368865966797, 0.9930295348167419, 0.9897125363349915]\n",
            "All Validation Recall Values: [0.9784656763076782, 0.9895693063735962, 0.9804845452308655, 0.9865410327911377, 0.9907469749450684, 0.9872139692306519]\n",
            "Latest epoch for history metric 6\n",
            "New lower validation loss found at epoch 6. Continuing training...\n",
            "Training epoch 7\n",
            "Epoch 7/7\n",
            "651/651 [==============================] - ETA: 0s - loss: 0.1952 - accuracy: 0.9684 - precision: 0.9761 - recall: 0.9507\n",
            "Epoch 7: val_loss did not improve from 0.06033\n",
            "651/651 [==============================] - 87s 134ms/step - loss: 0.1952 - accuracy: 0.9684 - precision: 0.9761 - recall: 0.9507 - val_loss: 0.0871 - val_accuracy: 0.9884 - val_precision: 0.9884 - val_recall: 0.9886\n",
            "All Training Loss Values: [0.406843900680542, 0.12352748960256577, 0.25417861342430115, 0.10367394983768463, 0.05174192041158676, 0.07667097449302673, 0.1952068954706192]\n",
            "All Validation Loss Values: [0.20894455909729004, 0.060259416699409485, 0.07763839513063431, 0.05418545380234718, 0.07908424735069275, 0.06033254414796829, 0.0870654359459877]\n",
            "All Training Accuracy Values: [0.9146236181259155, 0.9783674478530884, 0.9435631036758423, 0.9810114502906799, 0.9932218194007874, 0.9904336333274841, 0.968368411064148]\n",
            "All Validation Accuracy Values: [0.976951539516449, 0.98940110206604, 0.9811574816703796, 0.9863728284835815, 0.9905787110328674, 0.9875504970550537, 0.988391637802124]\n",
            "All Training Precision Values: [0.9293492436408997, 0.9762178659439087, 0.9446492791175842, 0.9816389679908752, 0.9926954507827759, 0.9908080101013184, 0.9760623574256897]\n",
            "All Validation Precision Values: [0.9760026931762695, 0.9890701174736023, 0.9824679493904114, 0.986375093460083, 0.990080714225769, 0.9878787994384766, 0.9883936047554016]\n",
            "All Training Recall Values: [0.8574656248092651, 0.9787520170211792, 0.9361119270324707, 0.9766368865966797, 0.9930295348167419, 0.9897125363349915, 0.9506778120994568]\n",
            "All Validation Recall Values: [0.9784656763076782, 0.9895693063735962, 0.9804845452308655, 0.9865410327911377, 0.9907469749450684, 0.9872139692306519, 0.988559901714325]\n",
            "Latest epoch for history metric 7\n",
            "Higher or equal validation loss found at epoch 7. Continue training\n",
            "Training epoch 8\n",
            "Epoch 8/8\n",
            "651/651 [==============================] - ETA: 0s - loss: 0.0712 - accuracy: 0.9892 - precision: 0.9897 - recall: 0.9883\n",
            "Epoch 8: val_loss did not improve from 0.06033\n",
            "651/651 [==============================] - 87s 133ms/step - loss: 0.0712 - accuracy: 0.9892 - precision: 0.9897 - recall: 0.9883 - val_loss: 0.0905 - val_accuracy: 0.9889 - val_precision: 0.9887 - val_recall: 0.9892\n",
            "All Training Loss Values: [0.406843900680542, 0.12352748960256577, 0.25417861342430115, 0.10367394983768463, 0.05174192041158676, 0.07667097449302673, 0.1952068954706192, 0.07118839025497437]\n",
            "All Validation Loss Values: [0.20894455909729004, 0.060259416699409485, 0.07763839513063431, 0.05418545380234718, 0.07908424735069275, 0.06033254414796829, 0.0870654359459877, 0.09050528705120087]\n",
            "All Training Accuracy Values: [0.9146236181259155, 0.9783674478530884, 0.9435631036758423, 0.9810114502906799, 0.9932218194007874, 0.9904336333274841, 0.968368411064148, 0.9891837239265442]\n",
            "All Validation Accuracy Values: [0.976951539516449, 0.98940110206604, 0.9811574816703796, 0.9863728284835815, 0.9905787110328674, 0.9875504970550537, 0.988391637802124, 0.988896369934082]\n",
            "All Training Precision Values: [0.9293492436408997, 0.9762178659439087, 0.9446492791175842, 0.9816389679908752, 0.9926954507827759, 0.9908080101013184, 0.9760623574256897, 0.9897457957267761]\n",
            "All Validation Precision Values: [0.9760026931762695, 0.9890701174736023, 0.9824679493904114, 0.986375093460083, 0.990080714225769, 0.9878787994384766, 0.9883936047554016, 0.9887338280677795]\n",
            "All Training Recall Values: [0.8574656248092651, 0.9787520170211792, 0.9361119270324707, 0.9766368865966797, 0.9930295348167419, 0.9897125363349915, 0.9506778120994568, 0.9883184432983398]\n",
            "All Validation Recall Values: [0.9784656763076782, 0.9895693063735962, 0.9804845452308655, 0.9865410327911377, 0.9907469749450684, 0.9872139692306519, 0.988559901714325, 0.9892328381538391]\n",
            "Latest epoch for history metric 8\n",
            "Higher or equal validation loss found at epoch 8. Continue training\n",
            "Training epoch 9\n",
            "Epoch 9/9\n",
            "651/651 [==============================] - ETA: 0s - loss: 0.0968 - accuracy: 0.9838 - precision: 0.9839 - recall: 0.9812\n",
            "Epoch 9: val_loss did not improve from 0.06033\n",
            "651/651 [==============================] - 87s 134ms/step - loss: 0.0968 - accuracy: 0.9838 - precision: 0.9839 - recall: 0.9812 - val_loss: 0.0786 - val_accuracy: 0.9886 - val_precision: 0.9877 - val_recall: 0.9891\n",
            "All Training Loss Values: [0.406843900680542, 0.12352748960256577, 0.25417861342430115, 0.10367394983768463, 0.05174192041158676, 0.07667097449302673, 0.1952068954706192, 0.07118839025497437, 0.09675400704145432]\n",
            "All Validation Loss Values: [0.20894455909729004, 0.060259416699409485, 0.07763839513063431, 0.05418545380234718, 0.07908424735069275, 0.06033254414796829, 0.0870654359459877, 0.09050528705120087, 0.07857316732406616]\n",
            "All Training Accuracy Values: [0.9146236181259155, 0.9783674478530884, 0.9435631036758423, 0.9810114502906799, 0.9932218194007874, 0.9904336333274841, 0.968368411064148, 0.9891837239265442, 0.9837996363639832]\n",
            "All Validation Accuracy Values: [0.976951539516449, 0.98940110206604, 0.9811574816703796, 0.9863728284835815, 0.9905787110328674, 0.9875504970550537, 0.988391637802124, 0.988896369934082, 0.988559901714325]\n",
            "All Training Precision Values: [0.9293492436408997, 0.9762178659439087, 0.9446492791175842, 0.9816389679908752, 0.9926954507827759, 0.9908080101013184, 0.9760623574256897, 0.9897457957267761, 0.983899712562561]\n",
            "All Validation Precision Values: [0.9760026931762695, 0.9890701174736023, 0.9824679493904114, 0.986375093460083, 0.990080714225769, 0.9878787994384766, 0.9883936047554016, 0.9887338280677795, 0.9877352118492126]\n",
            "All Training Recall Values: [0.8574656248092651, 0.9787520170211792, 0.9361119270324707, 0.9766368865966797, 0.9930295348167419, 0.9897125363349915, 0.9506778120994568, 0.9883184432983398, 0.9812037348747253]\n",
            "All Validation Recall Values: [0.9784656763076782, 0.9895693063735962, 0.9804845452308655, 0.9865410327911377, 0.9907469749450684, 0.9872139692306519, 0.988559901714325, 0.9892328381538391, 0.9890645742416382]\n",
            "Latest epoch for history metric 9\n",
            "Higher or equal validation loss found at epoch 9. Continue training\n",
            "Training epoch 10\n",
            "Epoch 10/10\n",
            "651/651 [==============================] - ETA: 0s - loss: 0.0464 - accuracy: 0.9938 - precision: 0.9933 - recall: 0.9942\n",
            "Epoch 10: val_loss did not improve from 0.06033\n",
            "651/651 [==============================] - 86s 133ms/step - loss: 0.0464 - accuracy: 0.9938 - precision: 0.9933 - recall: 0.9942 - val_loss: 0.1021 - val_accuracy: 0.9907 - val_precision: 0.9903 - val_recall: 0.9911\n",
            "All Training Loss Values: [0.406843900680542, 0.12352748960256577, 0.25417861342430115, 0.10367394983768463, 0.05174192041158676, 0.07667097449302673, 0.1952068954706192, 0.07118839025497437, 0.09675400704145432, 0.04642563313245773]\n",
            "All Validation Loss Values: [0.20894455909729004, 0.060259416699409485, 0.07763839513063431, 0.05418545380234718, 0.07908424735069275, 0.06033254414796829, 0.0870654359459877, 0.09050528705120087, 0.07857316732406616, 0.1021009087562561]\n",
            "All Training Accuracy Values: [0.9146236181259155, 0.9783674478530884, 0.9435631036758423, 0.9810114502906799, 0.9932218194007874, 0.9904336333274841, 0.968368411064148, 0.9891837239265442, 0.9837996363639832, 0.9938467741012573]\n",
            "All Validation Accuracy Values: [0.976951539516449, 0.98940110206604, 0.9811574816703796, 0.9863728284835815, 0.9905787110328674, 0.9875504970550537, 0.988391637802124, 0.988896369934082, 0.988559901714325, 0.9907469749450684]\n",
            "All Training Precision Values: [0.9293492436408997, 0.9762178659439087, 0.9446492791175842, 0.9816389679908752, 0.9926954507827759, 0.9908080101013184, 0.9760623574256897, 0.9897457957267761, 0.983899712562561, 0.9932763576507568]\n",
            "All Validation Precision Values: [0.9760026931762695, 0.9890701174736023, 0.9824679493904114, 0.986375093460083, 0.990080714225769, 0.9878787994384766, 0.9883936047554016, 0.9887338280677795, 0.9877352118492126, 0.9902504682540894]\n",
            "All Training Recall Values: [0.8574656248092651, 0.9787520170211792, 0.9361119270324707, 0.9766368865966797, 0.9930295348167419, 0.9897125363349915, 0.9506778120994568, 0.9883184432983398, 0.9812037348747253, 0.9942313432693481]\n",
            "All Validation Recall Values: [0.9784656763076782, 0.9895693063735962, 0.9804845452308655, 0.9865410327911377, 0.9907469749450684, 0.9872139692306519, 0.988559901714325, 0.9892328381538391, 0.9890645742416382, 0.9910834431648254]\n",
            "Latest epoch for history metric 10\n",
            "Higher or equal validation loss found at epoch 10. Continue training\n",
            "Training epoch 11\n",
            "Epoch 11/11\n",
            "651/651 [==============================] - ETA: 0s - loss: 0.0291 - accuracy: 0.9959 - precision: 0.9964 - recall: 0.9952\n",
            "Epoch 11: val_loss did not improve from 0.06033\n",
            "651/651 [==============================] - 85s 131ms/step - loss: 0.0291 - accuracy: 0.9959 - precision: 0.9964 - recall: 0.9952 - val_loss: 0.0703 - val_accuracy: 0.9921 - val_precision: 0.9919 - val_recall: 0.9921\n",
            "All Training Loss Values: [0.406843900680542, 0.12352748960256577, 0.25417861342430115, 0.10367394983768463, 0.05174192041158676, 0.07667097449302673, 0.1952068954706192, 0.07118839025497437, 0.09675400704145432, 0.04642563313245773, 0.029071347787976265]\n",
            "All Validation Loss Values: [0.20894455909729004, 0.060259416699409485, 0.07763839513063431, 0.05418545380234718, 0.07908424735069275, 0.06033254414796829, 0.0870654359459877, 0.09050528705120087, 0.07857316732406616, 0.1021009087562561, 0.07029400020837784]\n",
            "All Training Accuracy Values: [0.9146236181259155, 0.9783674478530884, 0.9435631036758423, 0.9810114502906799, 0.9932218194007874, 0.9904336333274841, 0.968368411064148, 0.9891837239265442, 0.9837996363639832, 0.9938467741012573, 0.9959138631820679]\n",
            "All Validation Accuracy Values: [0.976951539516449, 0.98940110206604, 0.9811574816703796, 0.9863728284835815, 0.9905787110328674, 0.9875504970550537, 0.988391637802124, 0.988896369934082, 0.988559901714325, 0.9907469749450684, 0.9920928478240967]\n",
            "All Training Precision Values: [0.9293492436408997, 0.9762178659439087, 0.9446492791175842, 0.9816389679908752, 0.9926954507827759, 0.9908080101013184, 0.9760623574256897, 0.9897457957267761, 0.983899712562561, 0.9932763576507568, 0.9963904023170471]\n",
            "All Validation Precision Values: [0.9760026931762695, 0.9890701174736023, 0.9824679493904114, 0.986375093460083, 0.990080714225769, 0.9878787994384766, 0.9883936047554016, 0.9887338280677795, 0.9877352118492126, 0.9902504682540894, 0.9919260144233704]\n",
            "All Training Recall Values: [0.8574656248092651, 0.9787520170211792, 0.9361119270324707, 0.9766368865966797, 0.9930295348167419, 0.9897125363349915, 0.9506778120994568, 0.9883184432983398, 0.9812037348747253, 0.9942313432693481, 0.9952408671379089]\n",
            "All Validation Recall Values: [0.9784656763076782, 0.9895693063735962, 0.9804845452308655, 0.9865410327911377, 0.9907469749450684, 0.9872139692306519, 0.988559901714325, 0.9892328381538391, 0.9890645742416382, 0.9910834431648254, 0.9920928478240967]\n",
            "Latest epoch for history metric 11\n",
            "Higher or equal validation loss found at epoch 11. Continue training\n",
            "No improvement in validation loss for 5 epochs. Stopping training...\n"
          ]
        }
      ]
    },
    {
      "cell_type": "markdown",
      "source": [
        "Load Model\n"
      ],
      "metadata": {
        "id": "Qh53tg8fG6Vv"
      }
    },
    {
      "cell_type": "code",
      "source": [
        "model.load_weights(f'{BEST_FINE_TUNED_MODEL_OUTPUT_PATH}/model')"
      ],
      "metadata": {
        "colab": {
          "base_uri": "https://localhost:8080/"
        },
        "id": "k4mWMr3AG8Rb",
        "outputId": "69bcb999-b6e4-4239-92d4-6c0de3e57d3e"
      },
      "execution_count": null,
      "outputs": [
        {
          "output_type": "execute_result",
          "data": {
            "text/plain": [
              "<tensorflow.python.checkpoint.checkpoint.CheckpointLoadStatus at 0x79fcc8aa7820>"
            ]
          },
          "metadata": {},
          "execution_count": 70
        }
      ]
    },
    {
      "cell_type": "markdown",
      "source": [
        "Verify Epochs"
      ],
      "metadata": {
        "id": "LwO3WpS24GUc"
      }
    },
    {
      "cell_type": "code",
      "source": [
        "# From model's tensorflow keras callback\n",
        "print(f\"The best model was found at epoch: {best_epoch_tracker.best_epoch}\")"
      ],
      "metadata": {
        "colab": {
          "base_uri": "https://localhost:8080/"
        },
        "id": "IdhwQWX74HkC",
        "outputId": "397a3aba-fe51-4462-b783-10b255a966a7"
      },
      "execution_count": null,
      "outputs": [
        {
          "output_type": "stream",
          "name": "stdout",
          "text": [
            "The best model was found at epoch: 6\n"
          ]
        }
      ]
    },
    {
      "cell_type": "markdown",
      "source": [
        "Metric Plots per Epochs"
      ],
      "metadata": {
        "id": "T-blqdvGCc43"
      }
    },
    {
      "cell_type": "code",
      "source": [
        "plt.figure(figsize=(12, 12))\n",
        "epochs = range(1, len(loss) + 1)\n",
        "\n",
        "# Loss Plot\n",
        "plt.subplot(3, 2, 1)\n",
        "plt.plot(epochs, loss, label='Loss', color='blue')\n",
        "plt.plot(epochs, val_loss, label='Validation Loss', color='orange')\n",
        "plt.title('Loss over Epochs')\n",
        "plt.xlabel('Epoch')\n",
        "plt.ylabel('Loss')\n",
        "plt.xticks(epochs)\n",
        "plt.legend()\n",
        "\n",
        "# Accuracy Plot\n",
        "plt.subplot(3, 2, 2)\n",
        "plt.plot(epochs, accuracy, label='Accuracy', color='green')\n",
        "plt.plot(epochs, val_accuracy, label='Validation Accuracy', color='red')\n",
        "plt.title('Accuracy over Epochs')\n",
        "plt.xlabel('Epoch')\n",
        "plt.ylabel('Accuracy')\n",
        "plt.xticks(epochs)\n",
        "plt.legend()\n",
        "\n",
        "# Precision Plot\n",
        "plt.subplot(3, 2, 3)\n",
        "plt.plot(epochs, precision, label='Precision', color='orange')\n",
        "plt.plot(epochs, val_precision, label='Validation Precision', color='purple')\n",
        "plt.title('Precision over Epochs')\n",
        "plt.xlabel('Epoch')\n",
        "plt.ylabel('Precision')\n",
        "plt.xticks(epochs)\n",
        "plt.legend()\n",
        "\n",
        "# Recall Plot\n",
        "plt.subplot(3, 2, 4)\n",
        "plt.plot(epochs, recall, label='Recall', color='red')\n",
        "plt.plot(epochs, val_recall, label='Validation Recall', color='brown')\n",
        "plt.title('Recall over Epochs')\n",
        "plt.xlabel('Epoch')\n",
        "plt.ylabel('Recall')\n",
        "plt.xticks(epochs)\n",
        "plt.legend()\n",
        "\n",
        "# F1 Plot\n",
        "plt.subplot(3, 2, 5)\n",
        "plt.plot(epochs, f1, label='F1', color='cyan')\n",
        "plt.plot(epochs, val_f1, label='Validation F1', color='magenta')\n",
        "plt.title('F1 over Epochs')\n",
        "plt.xlabel('Epoch')\n",
        "plt.ylabel('F1')\n",
        "plt.xticks(epochs)\n",
        "plt.legend()\n",
        "\n",
        "plt.tight_layout()\n",
        "plt.show()\n"
      ],
      "metadata": {
        "colab": {
          "base_uri": "https://localhost:8080/",
          "height": 1000
        },
        "id": "IidpVzs4CfKg",
        "outputId": "a70680fa-0341-4f61-d7be-5edc485c716e"
      },
      "execution_count": null,
      "outputs": [
        {
          "output_type": "display_data",
          "data": {
            "text/plain": [
              "<Figure size 1200x1000 with 4 Axes>"
            ],
            "image/png": "[encoded data removed]"
          },
          "metadata": {}
        }
      ]
    },
    {
      "cell_type": "markdown",
      "source": [
        "### Model Evaluation"
      ],
      "metadata": {
        "id": "WPw5E6mSZ3yO"
      }
    },
    {
      "cell_type": "markdown",
      "source": [
        "Validation Loss & Validation Accuraccy"
      ],
      "metadata": {
        "id": "wcL7zP0oApqa"
      }
    },
    {
      "cell_type": "code",
      "source": [
        "val_loss, val_accuracy, val_precision, val_recall = model.evaluate(val_dataset)\n",
        "print(f\"Validation Loss: {val_loss}, Validation Accuracy: {val_accuracy}\")"
      ],
      "metadata": {
        "colab": {
          "base_uri": "https://localhost:8080/"
        },
        "id": "u3xiPWn8Zi52",
        "outputId": "d5fe3dc8-fb91-4387-9c95-5a0cfa309e61"
      },
      "execution_count": null,
      "outputs": [
        {
          "output_type": "stream",
          "name": "stdout",
          "text": [
            "186/186 [==============================] - 5s 25ms/step - loss: 0.0603 - accuracy: 0.9876 - precision: 0.9879 - recall: 0.9872\n",
            "Validation Loss: 0.06033254414796829, Validation Accuracy: 0.9875504970550537\n"
          ]
        }
      ]
    },
    {
      "cell_type": "markdown",
      "source": [
        "General Evaluation Metrics"
      ],
      "metadata": {
        "id": "OpGik8LucJi4"
      }
    },
    {
      "cell_type": "code",
      "source": [
        "# Make predictions on the validation set\n",
        "val_pred_logits = model.predict(val_encodings['input_ids'])['logits']\n",
        "val_probabilities = tf.nn.softmax(val_pred_logits, axis=-1)[:, 1].numpy()  # Probability of class 1 (hate speech)\n",
        "val_predictions = np.argmax(val_pred_logits, axis=1)  # Predicted labels\n",
        "\n",
        "# Ensure y_val is in binary format, not one-hot encoded\n",
        "if len(y_val.shape) > 1 and y_val.shape[1] > 1:\n",
        "    y_val_binary = np.argmax(y_val, axis=1)\n",
        "else:\n",
        "    y_val_binary = y_val\n",
        "\n",
        "# Calculate evaluation metrics\n",
        "accuracy = accuracy_score(y_val_binary, val_predictions)\n",
        "precision = precision_score(y_val_binary, val_predictions)\n",
        "recall = recall_score(y_val_binary, val_predictions)\n",
        "f1 = f1_score(y_val_binary, val_predictions)\n",
        "auc_roc = roc_auc_score(y_val_binary, val_probabilities)\n",
        "\n",
        "# Print all metrics\n",
        "print(f'Accuracy: {accuracy:.4f}')\n",
        "print(f'Precision: {precision:.4f}')\n",
        "print(f'Recall: {recall:.4f}')\n",
        "print(f'F1-Score: {f1:.4f}')\n",
        "print(f'AUC-ROC: {auc_roc:.4f}')\n"
      ],
      "metadata": {
        "id": "6X0ZVkb7cNSB",
        "colab": {
          "base_uri": "https://localhost:8080/"
        },
        "outputId": "8c383f68-3a58-48aa-c471-31b6768448ca"
      },
      "execution_count": null,
      "outputs": [
        {
          "output_type": "stream",
          "name": "stdout",
          "text": [
            "186/186 [==============================] - 8s 25ms/step\n",
            "Accuracy: 0.9796\n",
            "Precision: 0.9946\n",
            "Recall: 0.9653\n",
            "F1-Score: 0.9797\n",
            "AUC-ROC: 0.9985\n"
          ]
        }
      ]
    },
    {
      "cell_type": "markdown",
      "source": [
        "Plot ROC Curve"
      ],
      "metadata": {
        "id": "u4ZyTSjWWOWO"
      }
    },
    {
      "cell_type": "code",
      "source": [
        "if len(y_val.shape) > 1 and y_val.shape[1] > 1:\n",
        "    y_val_binary = np.argmax(y_val, axis=1)\n",
        "else:\n",
        "    y_val_binary = y_val\n",
        "\n",
        "# Calculate the ROC curve\n",
        "fpr, tpr, thresholds = roc_curve(y_val_binary, val_probabilities)\n",
        "\n",
        "# Plot the ROC Curve\n",
        "plt.figure(figsize=(10, 6))\n",
        "plt.plot(fpr, tpr, color='blue', label=f'ROC Curve (AUC = {auc_roc:.4f})')\n",
        "plt.plot([0, 1], [0, 1], color='grey', linestyle='--')\n",
        "plt.xlabel('False Positive Rate')\n",
        "plt.ylabel('True Positive Rate')\n",
        "plt.title('Receiver Operating Characteristic (ROC) Curve')\n",
        "plt.legend(loc='lower right')\n",
        "plt.show()\n"
      ],
      "metadata": {
        "colab": {
          "base_uri": "https://localhost:8080/",
          "height": 564
        },
        "id": "kB4XUYx9WNfC",
        "outputId": "b2ba1739-8191-4223-8f78-c3f2c46b5127"
      },
      "execution_count": null,
      "outputs": [
        {
          "output_type": "display_data",
          "data": {
            "text/plain": [
              "<Figure size 1000x600 with 1 Axes>"
            ],
            "image/png": "[encoded data removed]"
          },
          "metadata": {}
        }
      ]
    },
    {
      "cell_type": "markdown",
      "source": [
        "Confusion Matrix"
      ],
      "metadata": {
        "id": "lqMic4c7WRqx"
      }
    },
    {
      "cell_type": "code",
      "source": [
        "if len(y_val.shape) > 1 and y_val.shape[1] > 1:\n",
        "    y_val_binary = np.argmax(y_val, axis=1)\n",
        "else:\n",
        "    y_val_binary = y_val\n",
        "\n",
        "# Calculate the confusion matrix\n",
        "cm = confusion_matrix(y_val_binary, val_predictions)\n",
        "disp = ConfusionMatrixDisplay(confusion_matrix=cm)\n",
        "disp.plot(cmap='Blues')\n",
        "plt.title('Confusion Matrix')\n",
        "plt.show()"
      ],
      "metadata": {
        "colab": {
          "base_uri": "https://localhost:8080/",
          "height": 472
        },
        "id": "cX0-6uAPWTLS",
        "outputId": "7b8288f8-1834-4724-87ad-663dfa63d2a1"
      },
      "execution_count": null,
      "outputs": [
        {
          "output_type": "display_data",
          "data": {
            "text/plain": [
              "<Figure size 640x480 with 2 Axes>"
            ],
            "image/png": "[encoded data removed]"
          },
          "metadata": {}
        }
      ]
    },
    {
      "cell_type": "markdown",
      "source": [
        "Classification Report"
      ],
      "metadata": {
        "id": "pcgMni6gXSTD"
      }
    },
    {
      "cell_type": "code",
      "source": [
        "if len(y_val.shape) > 1 and y_val.shape[1] > 1:\n",
        "    y_val_binary = np.argmax(y_val, axis=1)\n",
        "else:\n",
        "    y_val_binary = y_val\n",
        "\n",
        "print(\"\\nClassification Report:\\n\", classification_report(y_val_binary, val_predictions))"
      ],
      "metadata": {
        "colab": {
          "base_uri": "https://localhost:8080/"
        },
        "id": "EqhG_psUXTe8",
        "outputId": "9d67ea18-6552-4226-9e01-ca0d3ad383d0"
      },
      "execution_count": null,
      "outputs": [
        {
          "output_type": "stream",
          "name": "stdout",
          "text": [
            "\n",
            "Classification Report:\n",
            "               precision    recall  f1-score   support\n",
            "\n",
            "           0       0.97      0.99      0.98      2917\n",
            "           1       0.99      0.97      0.98      3027\n",
            "\n",
            "    accuracy                           0.98      5944\n",
            "   macro avg       0.98      0.98      0.98      5944\n",
            "weighted avg       0.98      0.98      0.98      5944\n",
            "\n"
          ]
        }
      ]
    },
    {
      "cell_type": "markdown",
      "source": [
        "Accuracy, Precision, Recall, F1 Score Graphs"
      ],
      "metadata": {
        "id": "F2TfpbklShhr"
      }
    },
    {
      "cell_type": "code",
      "source": [
        "metrics = ['Accuracy', 'Precision', 'Recall', 'F1 Score']\n",
        "values = [accuracy, precision, recall, f1]\n",
        "\n",
        "plt.figure(figsize=(10, 6))\n",
        "plt.bar(metrics, values, color='skyblue')\n",
        "plt.title(\"Evaluation Metrics\")\n",
        "plt.ylim(0, 1)\n",
        "plt.ylabel(\"Score\")\n",
        "plt.show()"
      ],
      "metadata": {
        "colab": {
          "base_uri": "https://localhost:8080/",
          "height": 545
        },
        "id": "z8ckL-9mSpZs",
        "outputId": "871cbda0-4b59-4d71-bf94-ddb529bf252f"
      },
      "execution_count": null,
      "outputs": [
        {
          "output_type": "display_data",
          "data": {
            "text/plain": [
              "<Figure size 1000x600 with 1 Axes>"
            ],
            "image/png": "[encoded data removed]"
          },
          "metadata": {}
        }
      ]
    },
    {
      "cell_type": "markdown",
      "source": [
        "Save Model"
      ],
      "metadata": {
        "id": "wtuq_AWwFoJE"
      }
    },
    {
      "cell_type": "code",
      "source": [
        "if not os.path.exists(FINE_TUNED_MODEL_OUTPUT_PATH):\n",
        "    os.makedirs(FINE_TUNED_MODEL_OUTPUT_PATH)\n",
        "\n",
        "model.save_pretrained(FINE_TUNED_MODEL_OUTPUT_PATH)\n",
        "tokenizer.save_pretrained(FINE_TUNED_MODEL_OUTPUT_PATH)"
      ],
      "metadata": {
        "colab": {
          "base_uri": "https://localhost:8080/"
        },
        "id": "RFDJZe3JFpJk",
        "outputId": "d7a06d64-5652-4eef-9394-8e0140ecc09c"
      },
      "execution_count": null,
      "outputs": [
        {
          "output_type": "execute_result",
          "data": {
            "text/plain": [
              "('/content/drive/MyDrive/mixed-code-hate-speech-research/xlm_roberta_base_tuned_EPOCH_PROGRESSIVE_14/tokenizer_config.json',\n",
              " '/content/drive/MyDrive/mixed-code-hate-speech-research/xlm_roberta_base_tuned_EPOCH_PROGRESSIVE_14/special_tokens_map.json',\n",
              " '/content/drive/MyDrive/mixed-code-hate-speech-research/xlm_roberta_base_tuned_EPOCH_PROGRESSIVE_14/sentencepiece.bpe.model',\n",
              " '/content/drive/MyDrive/mixed-code-hate-speech-research/xlm_roberta_base_tuned_EPOCH_PROGRESSIVE_14/added_tokens.json')"
            ]
          },
          "metadata": {},
          "execution_count": 80
        }
      ]
    }
  ],
  "metadata": {
    "language_info": {
      "name": "python"
    },
    "colab": {
      "provenance": [],
      "toc_visible": true
    },
    "kernelspec": {
      "name": "python3",
      "display_name": "Python 3"
    }
  },
  "nbformat": 4,
  "nbformat_minor": 0
}